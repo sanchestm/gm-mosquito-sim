{
 "cells": [
  {
   "cell_type": "code",
   "execution_count": 1,
   "metadata": {
    "collapsed": false
   },
   "outputs": [],
   "source": [
    "from random import *\n",
    "import numpy as np\n",
    "import matplotlib.pyplot as plt\n",
    "from math import *\n",
    "from itertools import product, repeat\n",
    "plt.style.use(\"ggplot\")\n",
    "get_ipython().magic('matplotlib inline')"
   ]
  },
  {
   "cell_type": "code",
   "execution_count": 2,
   "metadata": {
    "collapsed": false
   },
   "outputs": [],
   "source": [
    "def check(a):\n",
    "    for i in a: \n",
    "        if abs(i[0] > 1.5*box) or abs(i[1] > 1.5*box): return 0\n",
    "    else: return 1"
   ]
  },
  {
   "cell_type": "code",
   "execution_count": 3,
   "metadata": {
    "collapsed": true
   },
   "outputs": [],
   "source": [
    "def check_howmany(a, box):\n",
    "    result = 0\n",
    "    for i in a: \n",
    "        if abs(i[0] > 1.5*box) or abs(i[1] > 1.5*box): result += 1\n",
    "    return result/a.shape[0]\n",
    "    \n"
   ]
  },
  {
   "cell_type": "markdown",
   "metadata": {},
   "source": [
    "## discretize a point in a (3,3) matrix"
   ]
  },
  {
   "cell_type": "code",
   "execution_count": 4,
   "metadata": {
    "collapsed": false
   },
   "outputs": [],
   "source": [
    "def findquadrant(point,size):\n",
    "    y,x = point\n",
    "    halfsize = size/2\n",
    "    if x < -halfsize:\n",
    "        if y > halfsize: return [0,0]\n",
    "        if y < -halfsize: return [2,0]\n",
    "        return [1,0]\n",
    "    if x > halfsize:\n",
    "        if y > halfsize: return [0,2]\n",
    "        if y < -halfsize: return [2,2]\n",
    "        return [1,2]\n",
    "    if y > halfsize: return [0,1]\n",
    "    if y < -halfsize: return [2,1]\n",
    "    return [1,1]"
   ]
  },
  {
   "cell_type": "code",
   "execution_count": 5,
   "metadata": {
    "collapsed": false
   },
   "outputs": [],
   "source": [
    "def findStep(points, box):\n",
    "    tempo = 0\n",
    "    while check_howmany(points, box) < 0.05:\n",
    "        for i in points:\n",
    "            a = uniform(0, 2*pi)\n",
    "            vvar, hvar = V*dt*sin(a), V*dt*cos(a)\n",
    "            i[0] += vvar; i[1] += hvar\n",
    "        tempo += dt\n",
    "    return tempo\n",
    "    "
   ]
  },
  {
   "cell_type": "markdown",
   "metadata": {},
   "source": [
    "## randomwalk each point for 1 day equivalent"
   ]
  },
  {
   "cell_type": "code",
   "execution_count": 6,
   "metadata": {
    "collapsed": false
   },
   "outputs": [],
   "source": [
    "def randomWalk(points, nonacessquadrants, time):\n",
    "    dt = 1\n",
    "    for atime in range(time):\n",
    "        for i in points:\n",
    "            a = uniform(0, 2*pi)\n",
    "            vvar, hvar = V*dt*sin(a), V*dt*cos(a)\n",
    "            i[0] += vvar; i[1] += hvar\n",
    "            #if findquadrant(i, size) in nonacessquadrants: i[0] -= 2*vvar    \n",
    "            #if findquadrant(i, size) in nonacessquadrants: i[0] += 2*vvar; i[1] -= 2*hvar\n",
    "            #if findquadrant(i, size) in nonacessquadrants: i[0] -= 2*vvar\n",
    "    return points\n"
   ]
  },
  {
   "cell_type": "markdown",
   "metadata": {},
   "source": [
    "## make a grid from a scatter of many points"
   ]
  },
  {
   "cell_type": "code",
   "execution_count": 7,
   "metadata": {
    "collapsed": true
   },
   "outputs": [],
   "source": [
    "def gridify(somelist, size):\n",
    "    shape = (3,3)\n",
    "    grid = np.zeros(shape)\n",
    "    for point in somelist:\n",
    "        quadrant = findquadrant(point,size)\n",
    "        grid[quadrant[0]][quadrant[1]] += 1\n",
    "    grid = grid/grid.sum()\n",
    "    return np.array(grid)\n"
   ]
  },
  {
   "cell_type": "code",
   "execution_count": 8,
   "metadata": {
    "collapsed": false
   },
   "outputs": [],
   "source": [
    "V = 300/60 #meters per minute\n",
    "dt = 1 #min\n",
    "npoints = 40000\n",
    "size = 68\n",
    "def newpoints(n):\n",
    "    return np.array([[uniform(-size/2,size/2),uniform(-size/2,size/2)] for i in range(n)])"
   ]
  },
  {
   "cell_type": "markdown",
   "metadata": {},
   "source": [
    "## Find maximum time step without leaking mosquitos from the 3x3 grid"
   ]
  },
  {
   "cell_type": "code",
   "execution_count": 9,
   "metadata": {
    "collapsed": false
   },
   "outputs": [
    {
     "name": "stdout",
     "output_type": "stream",
     "text": [
      "6.0\n",
      "CPU times: user 7min 14s, sys: 284 ms, total: 7min 14s\n",
      "Wall time: 7min 15s\n"
     ]
    }
   ],
   "source": [
    "%%time\n",
    "def MaxStep(box):\n",
    "    a = 0\n",
    "    for i in range(7):\n",
    "        a += findStep(newpoints(npoints), box)\n",
    "    a = a/5\n",
    "    for i in range(int(a),0, -1):\n",
    "        if 24*60 % i == 0: return i\n",
    "    return(\"deu ruim\")\n",
    "\n",
    "b= MaxStep(68.66)\n",
    "a = 24*60/b\n",
    "print(a)\n"
   ]
  },
  {
   "cell_type": "markdown",
   "metadata": {
    "collapsed": true
   },
   "source": [
    "matrix generator for geting all possible combinations of matrix\n",
    "<pre>\n",
    "0 | 3 | 5 \n",
    "1 | X | 6 \n",
    "2 | 4 | 7\n",
    "</pre>"
   ]
  },
  {
   "cell_type": "code",
   "execution_count": 10,
   "metadata": {
    "collapsed": false
   },
   "outputs": [
    {
     "name": "stdout",
     "output_type": "stream",
     "text": [
      "256\n",
      "[[ 0.078475   0.1236375  0.078475 ]\n",
      " [ 0.1236375  0.19155    0.1236375]\n",
      " [ 0.078475   0.1236375  0.078475 ]]\n",
      "0 (0, 0, 0, 0, 0, 0, 0, 0)\n",
      "25 (0, 0, 0, 1, 1, 0, 0, 1)\n",
      "50 (0, 0, 1, 1, 0, 0, 1, 0)\n",
      "75 (0, 1, 0, 0, 1, 0, 1, 1)\n",
      "100 (0, 1, 1, 0, 0, 1, 0, 0)\n",
      "125 (0, 1, 1, 1, 1, 1, 0, 1)\n",
      "150 (1, 0, 0, 1, 0, 1, 1, 0)\n",
      "175 (1, 0, 1, 0, 1, 1, 1, 1)\n",
      "200 (1, 1, 0, 0, 1, 0, 0, 0)\n",
      "225 (1, 1, 1, 0, 0, 0, 0, 1)\n",
      "250 (1, 1, 1, 1, 1, 0, 1, 0)\n",
      "CPU times: user 8min 16s, sys: 524 ms, total: 8min 16s\n",
      "Wall time: 8min 17s\n"
     ]
    }
   ],
   "source": [
    "%%time\n",
    "allmatrices = list(product(*(repeat((0, 1), 8))))\n",
    "print(len(allmatrices))\n",
    "dictionary_matrix_to_num = {}\n",
    "dict_num_to_weights = {}\n",
    "nowalls = gridify(randomWalk(newpoints(npoints), [], MaxStep(68.66)), size)\n",
    "avgcorner = (nowalls[0,0]+nowalls[2,2]+nowalls[2,0]+nowalls[0,2])/4 \n",
    "avgwall = (nowalls[1,0]+nowalls[0,1]+nowalls[2,1]+nowalls[1,2])/4 \n",
    "nowalls[0,0], nowalls[2,2], nowalls[2,0], nowalls[0,2] = [avgcorner for i in range(4)]\n",
    "nowalls[1,0], nowalls[0,1], nowalls[2,1], nowalls[1,2] = [avgwall   for i in range(4)]\n",
    "print(nowalls)\n",
    "for index, case in enumerate(allmatrices):\n",
    "    dictionary_matrix_to_num[case] = index\n",
    "    multiplier = np.ones((3,3))\n",
    "    if case[0] == 1: multiplier[0,0] = 0\n",
    "    if case[1] == 1: multiplier[1,0] = 0\n",
    "    if case[2] == 1: multiplier[2,0] = 0\n",
    "    if case[3] == 1: multiplier[0,1] = 0\n",
    "    if case[4] == 1: multiplier[2,1] = 0\n",
    "    if case[5] == 1: multiplier[0,2] = 0\n",
    "    if case[6] == 1: multiplier[1,2] = 0\n",
    "    if case[7] == 1: multiplier[2,2] = 0\n",
    "    if index%25 == 0: print(index, case)\n",
    "    dict_num_to_weights[index] = nowalls*multiplier/(nowalls*multiplier).sum()\n",
    "    "
   ]
  },
  {
   "cell_type": "code",
   "execution_count": 17,
   "metadata": {
    "collapsed": false
   },
   "outputs": [
    {
     "name": "stdout",
     "output_type": "stream",
     "text": [
      "[[ 0.          0.          0.10908206]\n",
      " [ 0.17185898  0.26625893  0.17185898]\n",
      " [ 0.10908206  0.17185898  0.        ]]\n"
     ]
    },
    {
     "data": {
      "image/png": "[encoded data removed]",
      "text/plain": [
       "<matplotlib.figure.Figure at 0x7f51103cb9b0>"
      ]
     },
     "metadata": {},
     "output_type": "display_data"
    }
   ],
   "source": [
    "a = dict_num_to_weights[145]\n",
    "print(a)\n",
    "plt.imshow(dict_num_to_weights[145])\n",
    "plt.show()"
   ]
  },
  {
   "cell_type": "code",
   "execution_count": 12,
   "metadata": {
    "collapsed": false
   },
   "outputs": [],
   "source": [
    "import pickle as pkl\n",
    "MyDicts = [dictionary_matrix_to_num, dict_num_to_weights]\n",
    "pkl.dump( MyDicts, open( \"myDicts.p\", \"wb\" ) )\n",
    "#to read the pickled dicts use:\n",
    "# dictionary_matrix_to_num, dict_num_to_weights = pkl.load( open (\"myDicts.p\", \"rb\") )\n",
    "\n",
    "\n"
   ]
  },
  {
   "cell_type": "code",
   "execution_count": 3,
   "metadata": {
    "collapsed": false
   },
   "outputs": [
    {
     "data": {
      "text/plain": [
       "(1, 3)"
      ]
     },
     "execution_count": 3,
     "metadata": {},
     "output_type": "execute_result"
    }
   ],
   "source": [
    "a = [(1,2), (3,4)]\n",
    "a, b = zip(*a)\n",
    "a"
   ]
  },
  {
   "cell_type": "code",
   "execution_count": null,
   "metadata": {
    "collapsed": true
   },
   "outputs": [],
   "source": []
  }
 ],
 "metadata": {
  "kernelspec": {
   "display_name": "Python 3",
   "language": "python",
   "name": "python3"
  },
  "language_info": {
   "codemirror_mode": {
    "name": "ipython",
    "version": 3
   },
   "file_extension": ".py",
   "mimetype": "text/x-python",
   "name": "python",
   "nbconvert_exporter": "python",
   "pygments_lexer": "ipython3",
   "version": "3.5.2"
  }
 },
 "nbformat": 4,
 "nbformat_minor": 1
}
