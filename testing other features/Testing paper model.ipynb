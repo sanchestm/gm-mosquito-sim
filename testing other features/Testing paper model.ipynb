{
 "cells": [
  {
   "cell_type": "code",
   "execution_count": 33,
   "metadata": {
    "collapsed": false
   },
   "outputs": [
    {
     "ename": "ImportError",
     "evalue": "No module named 'skimage'",
     "output_type": "error",
     "traceback": [
      "\u001b[1;31m---------------------------------------------------------------------------\u001b[0m",
      "\u001b[1;31mImportError\u001b[0m                               Traceback (most recent call last)",
      "\u001b[1;32m<ipython-input-33-9c3ae10e63c9>\u001b[0m in \u001b[0;36m<module>\u001b[1;34m()\u001b[0m\n\u001b[0;32m      6\u001b[0m \u001b[1;32mimport\u001b[0m \u001b[0mnumpy\u001b[0m \u001b[1;32mas\u001b[0m \u001b[0mnp\u001b[0m\u001b[1;33m\u001b[0m\u001b[0m\n\u001b[0;32m      7\u001b[0m \u001b[1;32mimport\u001b[0m \u001b[0mpickle\u001b[0m \u001b[1;32mas\u001b[0m \u001b[0mpkl\u001b[0m\u001b[1;33m\u001b[0m\u001b[0m\n\u001b[1;32m----> 8\u001b[1;33m \u001b[1;32mimport\u001b[0m \u001b[0mskimage\u001b[0m \u001b[1;32mas\u001b[0m \u001b[0mski\u001b[0m\u001b[1;33m\u001b[0m\u001b[0m\n\u001b[0m\u001b[0;32m      9\u001b[0m \u001b[1;32mfrom\u001b[0m \u001b[0mskimage\u001b[0m\u001b[1;33m.\u001b[0m\u001b[0mcolor\u001b[0m \u001b[1;32mimport\u001b[0m \u001b[0mrgb2gray\u001b[0m\u001b[1;33m\u001b[0m\u001b[0m\n\u001b[0;32m     10\u001b[0m \u001b[1;32mfrom\u001b[0m \u001b[0mscipy\u001b[0m \u001b[1;32mimport\u001b[0m \u001b[0mmisc\u001b[0m\u001b[1;33m\u001b[0m\u001b[0m\n",
      "\u001b[1;31mImportError\u001b[0m: No module named 'skimage'"
     ]
    }
   ],
   "source": [
    "import random as rd\n",
    "import matplotlib.pyplot as plt\n",
    "plt.style.use(\"ggplot\")\n",
    "get_ipython().magic('matplotlib inline')\n",
    "from math import *\n",
    "import numpy as np\n",
    "import pickle as pkl\n",
    "import skimage as ski\n",
    "from skimage.color import rgb2gray\n",
    "from scipy import misc\n",
    "from PIL import Image\n",
    "import PIL.ImageOps\n",
    "from skimage.exposure import adjust_gamma\n"
   ]
  },
  {
   "cell_type": "code",
   "execution_count": 34,
   "metadata": {
    "collapsed": false
   },
   "outputs": [
    {
     "name": "stdout",
     "output_type": "stream",
     "text": [
      "[[ 0.09405  0.1219   0.0944 ]\n",
      " [ 0.121    0.1484   0.1163 ]\n",
      " [ 0.0944   0.1174   0.09215]]\n"
     ]
    },
    {
     "data": {
      "image/png": "[encoded data removed]",
      "text/plain": [
       "<matplotlib.figure.Figure at 0x7ff045671f60>"
      ]
     },
     "metadata": {},
     "output_type": "display_data"
    }
   ],
   "source": [
    "dict_matrix_to_num, dict_num_to_weights = pkl.load( open (\"myDicts.p\", \"rb\") )\n",
    "a = dict_num_to_weights[0]\n",
    "print(a)\n",
    "plt.imshow(dict_num_to_weights[0])\n",
    "plt.show()"
   ]
  },
  {
   "cell_type": "code",
   "execution_count": 188,
   "metadata": {
    "collapsed": true
   },
   "outputs": [],
   "source": [
    "class Cell:\n",
    "    def __init__(self, pop_list, veg_type, veg_value, hum_value, iswater): #pop_list is array, veg_type is string, veg_value is the vegetation index value, hum_value is the humidity value\n",
    "        self.larvae_lim_per_box = 100000\n",
    "        self.pop_list  = pop_list\n",
    "        self.veg_type  = veg_type\n",
    "        self.veg_value = veg_value\n",
    "        self.hum_value = hum_value\n",
    "        self.iswater = iswater\n",
    "\n",
    "        self.e = pop_list[0]  # e  = eggs    - aquatic steps\n",
    "        self.l = pop_list[1]  # l  = larvae  - aquatic steps\n",
    "        self.p = pop_list[2]  # p  = pupae   - aquatic steps\n",
    "\n",
    "        self.ah = pop_list[3] # ah = host-seeking        adult - adult steps\n",
    "        self.ar = pop_list[4] # ar = resting             adult - adult steps\n",
    "        self.ao = pop_list[5] # ao = ovoposition-seeking adult - adult steps\n",
    "\n",
    "        self.n_total   = pop_list.sum()\n",
    "        self.n_aquatic = sum(pop_list[0:3])\n",
    "        self.n_adult   = sum(pop_list[3:])\n",
    "        \n",
    "        #U for dying P for passing\n",
    "        self.B = 100     #number of eggs per ovoposition\n",
    "        self.PE = .50    #prob of becoming a larvae\n",
    "        self.UE = .56    #prob of dying as a egg\n",
    "        self.novopo = 3. #novopositions per day\n",
    "        self.UL1 = .44   #prob of dying larvae\n",
    "        self.UL2 = .1  #prob of dying due to crowding\n",
    "        self.PL = 0.14   #prob of \n",
    "        self.PP = .50\n",
    "        self.UP = .37\n",
    "        self.PAH = .46 \n",
    "        self.UAH = .18\n",
    "        self.PAR = .43\n",
    "        self.UAR = .0043\n",
    "        self.UAO = .41\n",
    "        self.PAO = .5\n",
    "\n",
    "    def update(self):\n",
    "        \n",
    "        a = 0; b =1\n",
    "        if self.l < self.larvae_lim_per_box: a = (1 - (self.l)/self.larvae_lim_per_box)\n",
    "        \n",
    "        deltae = self.PAO*self.B*self.novopo*self.ao/2  - self.e*self.UE         - self.e*self.PE     #egg value update\n",
    "        deltal = self.PE*self.e    - self.l*self.UL1  - self.l*self.PL*a                            # larvae value update\n",
    "        deltap = self.PL*self.l*a    - self.p*self.UP   - self.p*self.PP                            #pupae update value\n",
    "        deltaah = self.PP*self.p   - self.ah*self.UAH - self.ah*self.PAH       + self.PAO*self.ao   #host-seeking update value\n",
    "        deltaar = self.PAH*self.ah - self.ar*self.UAR - self.ar*self.PAR                            #resting update value\n",
    "        deltaao = self.ar*self.PAR - self.PAO*self.ao - self.UAO*self.ao                            #ovoposition seeking udate value\n",
    "        self.delta = [int (deltae) , int(deltal) , int(deltap) , int(deltaah) , int(deltaar) , int(deltaao)]\n",
    "\n",
    "        self.pop_list = self.pop_list.tolist() #change from array to list as array is imutable in function\n",
    "        self.e  += deltae                      # egg   value update\n",
    "        self.l  += deltal                      #larvae value update\n",
    "        self.p  += deltap\n",
    "        self.ah += deltaah\n",
    "        self.ar += deltaar\n",
    "        self.ao += deltaao\n",
    "        if self.e < 0  : self.e  = 0\n",
    "        if self.l < 0  : self.l  = 0\n",
    "        if self.p < 0  : self.p  = 0\n",
    "        if self.ah < 0 : self.ah = 0\n",
    "        if self.ar < 0 : self.ar = 0\n",
    "        if self.ao < 0 : self.ao = 0\n",
    "        self.pop_list = np.array([self.e,self.l,self.p,self.ah,self.ar, self.ao])\n",
    "        self.n_total   = self.pop_list.sum()\n",
    "        self.n_aquatic = sum(self.pop_list[0:3])\n",
    "        self.n_adult   = sum(self.pop_list[3:])"
   ]
  },
  {
   "cell_type": "code",
   "execution_count": 54,
   "metadata": {
    "collapsed": false
   },
   "outputs": [],
   "source": [
    "class Grid:\n",
    "    def __init__(self, basearray, contour, vegimage, twiimage, cityimage, pixelXmeters):\n",
    "        self.shape = contour.shape\n",
    "        self.contour = contour\n",
    "        self.vegimage = abs(vegimage-1)\n",
    "        self.twiimage = abs(twiimage-1)\n",
    "        self.cityimage = cityimage\n",
    "        self.pixelSize = pixelXmeters\n",
    "\n",
    "        #initializing grid of Cells\n",
    "        self.GRID = [[Cell(np.array(basearray)*abs(1-contour[j][i]), cityimage[j][i], vegimage[j][i], twiimage[j][i], contour[j][i]) for i in range(self.shape[1])] for j in range(self.shape[0])]\n",
    "\n",
    "        #create grid of types of contour\n",
    "        def neighbors_to_tuple(y,x):\n",
    "            return(int(contour[y-1,x-1]), int(contour[y,x-1]), int(contour[y+1,x-1]), int(contour[y-1,x]), int(contour[y+1,x]), int(contour[y-1,x+1]), int(contour[y,x+1]), int(contour[y+1,x+1]))\n",
    "        self.bordertype = [[dict_matrix_to_num[neighbors_to_tuple(j,i)] for i in range(1,self.shape[1]-1)] for j in range(1,self.shape[0]-1)]\n",
    "        self.bordertype = np.pad(self.bordertype, pad_width=((1,1),(1,1)), mode='constant', constant_values=-1) #padding with zeros\n",
    "        \n",
    "\n",
    "    def getSingleGrid(self, ending):\n",
    "        if ending == \"e\"    :  return np.array([[self.GRID[j][i].e  for i in range(self.shape[1])] for j in range(self.shape[0])])\n",
    "        if ending == \"l\"    :  return np.array([[self.GRID[j][i].l  for i in range(self.shape[1])] for j in range(self.shape[0])])\n",
    "        if ending == \"p\"    :  return np.array([[self.GRID[j][i].p  for i in range(self.shape[1])] for j in range(self.shape[0])])\n",
    "        if ending == \"ah\"   :  return np.array([[self.GRID[j][i].ah for i in range(self.shape[1])] for j in range(self.shape[0])])\n",
    "        if ending == \"ar\"   :  return np.array([[self.GRID[j][i].ar for i in range(self.shape[1])] for j in range(self.shape[0])])\n",
    "        if ending == \"ao\"   :  return np.array([[self.GRID[j][i].ao for i in range(self.shape[1])] for j in range(self.shape[0])])\n",
    "        if ending == \"aqua\" : return self.getSingleGrid(\"e\")   + self.getSingleGrid(\"l\") + self.getSingleGrid(\"p\")\n",
    "        if ending == \"adult\": return self.getSingleGrid(\"ah\")  + self.getSingleGrid(\"ar\")+ self.getSingleGrid(\"ao\")\n",
    "        if ending == \"all\"  : return self.getSingleGrid(\"aqua\")+ self.getSingleGrid(\"adult\")\n",
    "        print(\"wrong command on getSingleGrid\"); return np.array([[]])\n",
    "        \n",
    "    def grdsum(self, ending):\n",
    "        grid_to_sum = self.getSingleGrid(ending)\n",
    "        return grid_to_sum.sum()\n",
    "        \n",
    "    def update_pop(self):\n",
    "        [[self.GRID[j][i].update() for i in range(self.shape[1])] for j in range(self.shape[0])]\n",
    "    \n",
    "    def update_migration(self):\n",
    "        updatedah = np.zeros(self.shape)\n",
    "        updatedao = np.zeros(self.shape)\n",
    "        for i in range(1, self.shape[0]-1):\n",
    "            for j in range(1, self.shape[1]-1):\n",
    "                if self.GRID[i][j].iswater == 0:\n",
    "                    borderMatrix = np.array(dict_num_to_weights[self.bordertype[i][j]])\n",
    "                    \n",
    "                    floatingah = self.GRID[i][j].ah * borderMatrix * self.vegimage[i-1:i+2,j-1:j+2]\n",
    "                    if floatingah.sum() > 0.05: \n",
    "                        updatedah[i-1:i+2,j-1:j+2]   += floatingah*(self.GRID[i][j].ah/floatingah.sum())\n",
    "                    else: updatedah[i-1:i+2,j-1:j+2] += self.GRID[i][j].ah * borderMatrix \n",
    "                            \n",
    "                    floatingao = self.GRID[i][j].ao * borderMatrix * self.twiimage[i-1:i+2,j-1:j+2]\n",
    "                    if floatingao.sum() > 0.05: \n",
    "                        updatedao[i-1:i+2,j-1:j+2]  += floatingao*(self.GRID[i][j].ao/floatingao.sum())\n",
    "                    else:updatedah[i-1:i+2,j-1:j+2] += self.GRID[i][j].ao * borderMatrix\n",
    "                    \n",
    "        for i in range(1, self.shape[0]-1):\n",
    "            for j in range(1, self.shape[1]-1):\n",
    "                self.GRID[i][j].ah = updatedah[i][j]\n",
    "                self.GRID[i][j].ao = updatedao[i][j]\n",
    "    \n",
    "    def updateall(self):\n",
    "        self.update_migration()\n",
    "        self.update_migration()\n",
    "        self.update_migration()\n",
    "        self.update_pop()\n",
    "        \n",
    "    def images(self):\n",
    "        f, (aquatics, ah, ao, adults) = plt.subplots(ncols=4, figsize=(15,15)) # sharex=True, sharey=True\n",
    "        aquatics.imshow(np.flipud(self.getSingleGrid('aqua')), cmap=plt.get_cmap(\"gist_earth\"))\n",
    "        aquatics.set_title('Aquatics stages')\n",
    "        ah.imshow(np.flipud(self.getSingleGrid('ah')), cmap=plt.get_cmap(\"gist_earth\"))\n",
    "        ah.set_title('host-seeking')\n",
    "        ao.imshow(np.flipud(self.getSingleGrid('ao')), cmap=plt.get_cmap(\"gist_earth\"))\n",
    "        ao.set_title('ovoposition-seeking')\n",
    "        adults.imshow(np.flipud(self.getSingleGrid('adult')), cmap=plt.get_cmap(\"gist_earth\"))\n",
    "        adults.set_title('Adult females')\n",
    "        f.subplots_adjust(hspace=0)\n",
    "        plt.setp([a.get_xticklabels() for a in f.axes[:]], visible=False)\n",
    "        for a in f.axes[:]: a.axis([0, self.shape[1],0, self.shape[0]])\n",
    "        plt.setp([a.get_yticklabels() for a in f.axes[:]], visible=False)\n",
    "        plt.tight_layout()\n",
    "        plt.show()\n",
    "                \n"
   ]
  },
  {
   "cell_type": "code",
   "execution_count": null,
   "metadata": {
    "collapsed": false
   },
   "outputs": [],
   "source": [
    "island_shape = misc.imread(\"../example_images/region_border_example.png\")\n",
    "island_shape_gray = rgb2gray(island_shape)\n",
    "island_wet = ski.img_as_float(rgb2gray(misc.imread(\"../example_images/TWI_example.png\")))\n",
    "island_veg = ski.img_as_float(rgb2gray(misc.imread(\"../example_images/vegetation_index_example.png\")))\n",
    "island_city = rgb2gray(misc.imread(\"../example_images/city_delimitation_example.png\"))"
   ]
  },
  {
   "cell_type": "code",
   "execution_count": null,
   "metadata": {
    "collapsed": false
   },
   "outputs": [],
   "source": [
    "%%time\n",
    "mosquitos = Grid([100,100,100,100,100,100], island_shape_gray, island_veg, island_wet, island_city, 68)\n",
    "for i in range(-15,15):\n",
    "    for j in range(-15,15):\n",
    "        mosquitos.GRID[280+i][140+j].ao = 800\n",
    "        mosquitos.GRID[200+i][200+j].ah = 800\n",
    "        mosquitos.GRID[320+i][330+j].ao = 400\n",
    "        mosquitos.GRID[100+i][300+j].ah = 400\n"
   ]
  },
  {
   "cell_type": "code",
   "execution_count": null,
   "metadata": {
    "collapsed": false
   },
   "outputs": [],
   "source": [
    "#%time mosquitos.update_pop()\n"
   ]
  },
  {
   "cell_type": "code",
   "execution_count": null,
   "metadata": {
    "collapsed": false
   },
   "outputs": [],
   "source": [
    "plt.imshow(mosquitos.getSingleGrid(\"adult\"))\n",
    "plt.colorbar()\n",
    "plt.show()\n",
    "\n",
    "\n"
   ]
  },
  {
   "cell_type": "code",
   "execution_count": null,
   "metadata": {
    "collapsed": false
   },
   "outputs": [],
   "source": [
    "mosquitos.grdsum(\"all\")\n",
    "%time mosquitos.images()\n",
    "%time for i in range(30): mosquitos.updateall()\n",
    "mosquitos.grdsum(\"all\")"
   ]
  },
  {
   "cell_type": "code",
   "execution_count": null,
   "metadata": {
    "collapsed": false
   },
   "outputs": [],
   "source": [
    "mosquitos.images()"
   ]
  },
  {
   "cell_type": "code",
   "execution_count": null,
   "metadata": {
    "collapsed": false
   },
   "outputs": [],
   "source": [
    "plt.imshow(mosquitos.getSingleGrid(\"ah\"))\n",
    "print(mosquitos.grdsum('ah'))\n",
    "plt.colorbar()\n",
    "plt.show()"
   ]
  },
  {
   "cell_type": "code",
   "execution_count": null,
   "metadata": {
    "collapsed": false
   },
   "outputs": [],
   "source": [
    "print(dict_num_to_weights[0])\n",
    "print(dict_matrix_to_num[(1,1,1,0,0,0,0,0)])\n",
    "print(dict_num_to_weights[224])\n",
    "a = np.zeros((3,3))\n",
    "for i in range(3):\n",
    "    for j in range(3):\n",
    "        if j!= 0: a[i][j] = 1\n",
    "print(a)\n",
    "print((dict_num_to_weights[0]*a).sum())\n",
    "print((dict_num_to_weights[0]*a)/(dict_num_to_weights[0]*a).sum() - dict_num_to_weights[224])"
   ]
  },
  {
   "cell_type": "code",
   "execution_count": 189,
   "metadata": {
    "collapsed": false
   },
   "outputs": [
    {
     "name": "stdout",
     "output_type": "stream",
     "text": [
      "0.1\n"
     ]
    }
   ],
   "source": [
    "test = Cell(np.array([10,10,10,10,10,10]),1,1,1,1)\n",
    "print(test.UL2)"
   ]
  },
  {
   "cell_type": "code",
   "execution_count": 190,
   "metadata": {
    "collapsed": false
   },
   "outputs": [
    {
     "name": "stdout",
     "output_type": "stream",
     "text": [
      "[25798, 36805, 3975, 2934, 1666, 495]\n",
      "[139232, 139695, 4, 1826, 3266, 1856]\n",
      "100\n",
      "[27436, 42363, 3943, 2579, 1309, 412]\n",
      "[138755, 134965, 14, 2012, 3557, 1930]\n",
      "200\n",
      "[31135, 49681, 3674, 2012, 950, 373]\n",
      "[134145, 126643, 39, 2373, 3993, 1966]\n",
      "300\n",
      "[33633, 54710, 3355, 1600, 826, 403]\n",
      "[127468, 118389, 218, 3172, 4144, 1918]\n",
      "400\n",
      "[38431, 64280, 2510, 954, 804, 461]\n",
      "[123812, 112905, 570, 3651, 4172, 1873]\n",
      "500\n",
      "[42438, 72138, 1624, 530, 888, 509]\n",
      "[117639, 101625, 2181, 4102, 4045, 1770]\n",
      "600\n",
      "[46735, 79965, 735, 583, 978, 560]\n",
      "[114050, 93841, 2984, 4191, 3901, 1704]\n",
      "700\n",
      "[53541, 91258, 0, 668, 1120, 642]\n",
      "[109647, 83195, 3673, 4130, 3733, 1644]\n",
      "800\n",
      "[57971, 97895, 0, 724, 1213, 695]\n",
      "862\n"
     ]
    }
   ],
   "source": [
    "b4 = test.n_adult\n",
    "test.update()\n",
    "after = test.n_adult\n",
    "conta = 0\n",
    "while abs(b4-after) > 0.002*b4: \n",
    "    b4 = after\n",
    "    test.update()\n",
    "    after = test.n_adult\n",
    "    conta += 1\n",
    "    if conta%50 ==0 : print([int(i) for i in test.pop_list])\n",
    "    if conta%100 ==0 : print(conta)\n",
    "    if conta == 1000: break\n",
    "print(conta)"
   ]
  },
  {
   "cell_type": "code",
   "execution_count": 191,
   "metadata": {
    "collapsed": false
   },
   "outputs": [
    {
     "name": "stdout",
     "output_type": "stream",
     "text": [
      "[130135, 121502, 153, 2893, 4110, 1943]\n"
     ]
    }
   ],
   "source": [
    "test.update()\n",
    "print([int(i) for i in test.pop_list])"
   ]
  },
  {
   "cell_type": "code",
   "execution_count": 194,
   "metadata": {
    "collapsed": false
   },
   "outputs": [
    {
     "data": {
      "image/png": "[encoded data removed]",
      "text/plain": [
       "<matplotlib.figure.Figure at 0x7ff03f6f5be0>"
      ]
     },
     "metadata": {},
     "output_type": "display_data"
    }
   ],
   "source": [
    "ovo = [test.e]\n",
    "larva= [test.l]\n",
    "pupa= [test.p]\n",
    "ahlist= [test.ah]\n",
    "arlist= [test.ar]\n",
    "aolist= [test.ao]\n",
    "for i in range(100):\n",
    "    test.update()\n",
    "    ovo    += [test.e]\n",
    "    larva  += [test.l]\n",
    "    pupa   += [test.p]\n",
    "    ahlist += [test.ah]\n",
    "    arlist += [test.ar]\n",
    "    aolist += [test.ao]\n",
    "\n",
    "#plt.plot(range(len(ovo)), ovo, label = 'egg')\n",
    "plt.plot(range(len(ovo)), larva, label = 'larvae')\n",
    "#plt.plot(range(len(ovo)), pupa, label = 'pupae')\n",
    "plt.plot(range(len(ovo)),ahlist, label = 'ah')\n",
    "plt.plot(range(len(ovo)), arlist, label = 'ar')\n",
    "plt.plot(range(len(ovo)), aolist, label = 'ao')\n",
    "plt.legend()\n",
    "plt.show()"
   ]
  },
  {
   "cell_type": "code",
   "execution_count": null,
   "metadata": {
    "collapsed": true
   },
   "outputs": [],
   "source": []
  }
 ],
 "metadata": {
  "kernelspec": {
   "display_name": "Python 3",
   "language": "python",
   "name": "python3"
  },
  "language_info": {
   "codemirror_mode": {
    "name": "ipython",
    "version": 3
   },
   "file_extension": ".py",
   "mimetype": "text/x-python",
   "name": "python",
   "nbconvert_exporter": "python",
   "pygments_lexer": "ipython3",
   "version": "3.5.1"
  }
 },
 "nbformat": 4,
 "nbformat_minor": 1
}
