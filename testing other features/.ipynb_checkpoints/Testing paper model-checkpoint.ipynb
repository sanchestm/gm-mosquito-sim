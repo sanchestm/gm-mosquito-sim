{
 "cells": [
  {
   "cell_type": "code",
   "execution_count": 23,
   "metadata": {
    "collapsed": true
   },
   "outputs": [],
   "source": [
    "import random as rd\n",
    "from matplotlib.pyplot import *\n",
    "from math import *\n",
    "import numpy as np\n",
    "import skimage as ski\n",
    "from skimage.color import rgb2gray\n",
    "from scipy import misc\n",
    "from PIL import Image\n",
    "import PIL.ImageOps\n",
    "from skimage.exposure import adjust_gamma"
   ]
  },
  {
   "cell_type": "code",
   "execution_count": 24,
   "metadata": {
    "collapsed": true
   },
   "outputs": [],
   "source": [
    "class Cell:\n",
    "    def __init__(self, pop_list, veg_type, veg_value, hum_value, iswater): #pop_list is array, veg_type is string, veg_value is the vegetation index value, hum_value is the humidity value\n",
    "        self.pop_list  = pop_list\n",
    "        self.veg_type  = veg_type\n",
    "        self.veg_value = veg_value\n",
    "        self.hum_value = hum_value\n",
    "        self.iswater = iswater\n",
    "\n",
    "        self.e = pop_list[0]  # e  = eggs    - aquatic steps\n",
    "        self.l = pop_list[1]  # l  = larvae  - aquatic steps\n",
    "        self.p = pop_list[2]  # p  = pupae   - aquatic steps\n",
    "\n",
    "        self.ah = pop_list[3] # ah = host-seeking        adult - adult steps\n",
    "        self.ar = pop_list[4] # ar = resting             adult - adult steps\n",
    "        self.ao = pop_list[5] # ao = ovoposition-seeking adult - adult steps\n",
    "\n",
    "        self.n_total   = pop_list.sum()\n",
    "        self.n_aquatic = sum(pop_list[0:3])\n",
    "        self.n_adult   = sum(pop_list[3:])\n",
    "\n",
    "    def update(self):\n",
    "        if self.e < 50 : B = rd.randint(50,300); PE = rd.uniform(.33, 1.); UE = rd.uniform(.32, .80); PAO = rd.randint(3,4)\n",
    "        else :           B = 100               ; PE = .50                ; UE = .56                 ; PAO = 3.\n",
    "        deltae = B*PAO*self.ao - self.e*UE - self.e*PE\n",
    "\n",
    "        if self.l < 50 :  UL1 = rd.uniform(.3, .58); UL2 = rd.uniform(.0, .1); PL = rd.uniform(0.08, 0.17)\n",
    "        else :            UL1 = .44                ; UL2 = .05               ; PL = 0.14\n",
    "        deltal = PE*self.e - self.l*UL1 - self.l*UL2*self.l - self.l*PL                              # larvae value update\n",
    "\n",
    "        if self.p < 50 :  UP = rd.uniform(.22, .52); PP = rd.uniform(.33, 1.);\n",
    "        else :            UP = .37                 ; PP = .50\n",
    "        deltap = PL*self.l - self.p*UP - self.p*PP                                                    #pupae update value\n",
    "\n",
    "        if self.ah < 50 :  PAH = rd.uniform(.322, .598); UAH = rd.uniform(.125, .233);\n",
    "        else :             PAH = .46                   ; UAH = .18\n",
    "        if self.ao < 50 :  UAO = rd.uniform(.41, .56);\n",
    "        else :             UAO = .41\n",
    "        deltaah = PP*self.p - self.ah*UAH - self.ah*PAH + (1-UAO)*self.ao                              #host-seeking update value\n",
    "\n",
    "        if self.ar < 50 :  PAR = rd.uniform(.3, .56); UAR = rd.uniform(.0034, .01);\n",
    "        else :             PAR = .43                ; UAR = .0043\n",
    "        deltaar = PAH*self.ah - self.ah*UAR - self.ah*PAR                                              #resting update value\n",
    "\n",
    "        deltaao = self.ah*PAR - self.ar\n",
    "\n",
    "\n",
    "        self.pop_list = self.pop_list.tolist() #change from array to list as array is imutable\n",
    "        self.e  += deltae  # egg   value update\n",
    "        self.l  += deltal  #larvae value update\n",
    "        self.p  += deltal\n",
    "        self.ah += deltaah\n",
    "        self.ar += deltaar\n",
    "        self.ao += deltaao\n",
    "        if self.e < 0  : self.e  = 0\n",
    "        if self.l < 0  : self.l  = 0\n",
    "        if self.p < 0  : self.p  = 0\n",
    "        if self.ah < 0 : self.ah = 0\n",
    "        if self.ar < 0 : self.ar = 0\n",
    "        if self.ao < 0 : self.ao = 0\n",
    "        self.pop_list = np.array([self.e,self.l,self.p,self.ah,self.ar, self.ao])\n",
    "        self.n_total   = self.pop_list.sum()\n",
    "        self.n_aquatic = sum(self.pop_list[0:3])\n",
    "        self.n_adult   = sum(self.pop_list[3:])"
   ]
  },
  {
   "cell_type": "code",
   "execution_count": 25,
   "metadata": {
    "collapsed": false
   },
   "outputs": [],
   "source": [
    "class Grid:\n",
    "    def __init__(self, basearray, contour, vegimage, twiimage, cityimage, pixelXmeters):\n",
    "        self.shape = contour.shape\n",
    "        self.contour = contour\n",
    "        self.vegimage = vegimage\n",
    "        self.twiimage = twiimage\n",
    "        self.cityimage = cityimage\n",
    "        self.pixelSize = pixelXmeters\n",
    "\n",
    "        #initializing grid of Cells\n",
    "        self.GRID = [[Cell(np.array(basearray), cityimage[i][j], vegimage[i][j], twiimage[i][j], contour[i][j]) for i in range(self.shape[0])] for j in range(self.shape[1])]\n",
    "\n",
    "        \n",
    "        global grdsum\n",
    "        def grdsum(ending):\n",
    "            result = 0\n",
    "            for i in range(self.shape[1]):\n",
    "                for j in range(self.shape[0]):\n",
    "                    result +=eval(\"self.GRID[\"+str(i)+\"][\"+str(j)+\"].\"+ ending)\n",
    "            return result\n",
    "\n",
    "        self.egrid = grdsum( 'e')  # e  = eggs    - aquatic steps\n",
    "        self.lgrid = grdsum( 'l')  # l  = larvae  - aquatic steps\n",
    "        self.pgrid = grdsum( 'p')  # p  = pupae   - aquatic steps\n",
    "\n",
    "        self.ahgrid = grdsum('ah') # ah = host-seeking        adult - adult steps\n",
    "        self.argrid = grdsum('ar') # ar = resting             adult - adult steps\n",
    "        self.aogrid = grdsum('ao') # ao = ovoposition-seeking adult - adult steps\n",
    "\n",
    "        self.n_aquaticgrid = self.egrid + self.lgrid + self.pgrid\n",
    "        self.n_adultgrid   = self.ahgrid + self.argrid + self.aogrid\n",
    "        self.n_totalgrid   = self.n_aquaticgrid + self.n_adultgrid\n",
    "\n",
    "    def update_pop(self):\n",
    "        [[newGrid.GRID[i][j].update() for i in range(newGrid.shape[1])] for j in range(newGrid.shape[0])]\n",
    "        self.egrid = grdsum( 'e')  # e  = eggs    - aquatic steps\n",
    "        self.lgrid = grdsum( 'l')  # l  = larvae  - aquatic steps\n",
    "        self.pgrid = grdsum( 'p')  # p  = pupae   - aquatic steps\n",
    "        \n",
    "        self.ahgrid = grdsum('ah') # ah = host-seeking        adult - adult steps\n",
    "        self.argrid = grdsum('ar') # ar = resting             adult - adult steps\n",
    "        self.aogrid = grdsum('ao') # ao = ovoposition-seeking adult - adult steps\n",
    "\n",
    "        self.n_aquaticgrid = self.egrid + self.lgrid + self.pgrid\n",
    "        self.n_adultgrid   = self.ahgrid + self.argrid + self.aogrid\n",
    "        self.n_totalgrid   = self.n_aquaticgrid + self.n_adultgrid\n",
    "        \n",
    "    def update_migration(self):\n",
    "        pass"
   ]
  },
  {
   "cell_type": "code",
   "execution_count": 26,
   "metadata": {
    "collapsed": false
   },
   "outputs": [],
   "source": [
    "island_shape = misc.imread(\"../example_images/region_border_example.png\")\n",
    "island_shape_gray = rgb2gray(island_shape)\n",
    "island_wet = ski.img_as_float(rgb2gray(misc.imread(\"../example_images/TWI_example.png\")))\n",
    "island_veg = adjust_gamma(ski.img_as_float(rgb2gray(misc.imread(\"../example_images/vegetation_index_example.png\"))), .2)\n",
    "island_city = rgb2gray(misc.imread(\"../example_images/city_delimitation_example.png\"))"
   ]
  },
  {
   "cell_type": "code",
   "execution_count": 27,
   "metadata": {
    "collapsed": false
   },
   "outputs": [],
   "source": [
    "newGrid = Grid([100,101,102,103,104,105], island_shape, island_veg, island_wet, island_city, 68)\n"
   ]
  },
  {
   "cell_type": "code",
   "execution_count": 33,
   "metadata": {
    "collapsed": false
   },
   "outputs": [
    {
     "name": "stdout",
     "output_type": "stream",
     "text": [
      "31088196.0722\n",
      "[255 255 255]\n",
      "1049320556.72\n"
     ]
    }
   ],
   "source": [
    "print(newGrid.n_adultgrid)\n",
    "print(newGrid.GRID[33][100].iswater)\n",
    "newGrid.update()\n",
    "print(newGrid.n_adultgrid)\n"
   ]
  },
  {
   "cell_type": "code",
   "execution_count": 34,
   "metadata": {
    "collapsed": true
   },
   "outputs": [],
   "source": [
    "a = [[newGrid.GRID[i][j].update() for i in range(newGrid.shape[1])] for j in range(newGrid.shape[0])]\n"
   ]
  },
  {
   "cell_type": "code",
   "execution_count": 30,
   "metadata": {
    "collapsed": false
   },
   "outputs": [
    {
     "name": "stdout",
     "output_type": "stream",
     "text": [
      "49152694.7025\n"
     ]
    }
   ],
   "source": [
    "print(newGrid.n_adultgrid)"
   ]
  },
  {
   "cell_type": "code",
   "execution_count": null,
   "metadata": {
    "collapsed": true
   },
   "outputs": [],
   "source": []
  }
 ],
 "metadata": {
  "kernelspec": {
   "display_name": "Python 3",
   "language": "python",
   "name": "python3"
  },
  "language_info": {
   "codemirror_mode": {
    "name": "ipython",
    "version": 3
   },
   "file_extension": ".py",
   "mimetype": "text/x-python",
   "name": "python",
   "nbconvert_exporter": "python",
   "pygments_lexer": "ipython3",
   "version": "3.5.2"
  }
 },
 "nbformat": 4,
 "nbformat_minor": 1
}
